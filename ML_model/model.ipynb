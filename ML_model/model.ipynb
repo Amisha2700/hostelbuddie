{
 "cells": [
  {
   "cell_type": "markdown",
   "metadata": {},
   "source": [
    "ML model"
   ]
  },
  {
   "cell_type": "code",
   "execution_count": 50,
   "metadata": {},
   "outputs": [],
   "source": [
    "import pandas as pd\n",
    "import numpy as np\n",
    "from sklearn.preprocessing import LabelEncoder, StandardScaler\n",
    "from sklearn.metrics.pairwise import cosine_similarity"
   ]
  },
  {
   "cell_type": "code",
   "execution_count": 51,
   "metadata": {},
   "outputs": [],
   "source": [
    "file_path = r\"C:/Users/hp/Downloads/responses_hostel.csv\"\n",
    "data =pd.read_csv(file_path)"
   ]
  },
  {
   "cell_type": "code",
   "execution_count": 52,
   "metadata": {},
   "outputs": [
    {
     "data": {
      "text/html": [
       "<div>\n",
       "<style scoped>\n",
       "    .dataframe tbody tr th:only-of-type {\n",
       "        vertical-align: middle;\n",
       "    }\n",
       "\n",
       "    .dataframe tbody tr th {\n",
       "        vertical-align: top;\n",
       "    }\n",
       "\n",
       "    .dataframe thead th {\n",
       "        text-align: right;\n",
       "    }\n",
       "</style>\n",
       "<table border=\"1\" class=\"dataframe\">\n",
       "  <thead>\n",
       "    <tr style=\"text-align: right;\">\n",
       "      <th></th>\n",
       "      <th>Timestamp</th>\n",
       "      <th>Name</th>\n",
       "      <th>SID</th>\n",
       "      <th>YEAR</th>\n",
       "      <th>Branch</th>\n",
       "      <th>Home city/town</th>\n",
       "      <th>Are you a night owl or an early riser?</th>\n",
       "      <th>What are your food preferences?</th>\n",
       "      <th>What would you rate yourself on the scale of 1-5 in cleanliness ?(5-being you clean your room everyday)</th>\n",
       "      <th>What do you prefer doing in your leisure time?</th>\n",
       "      <th>Hosteller/Day scholar</th>\n",
       "    </tr>\n",
       "  </thead>\n",
       "  <tbody>\n",
       "    <tr>\n",
       "      <th>0</th>\n",
       "      <td>12/26/2024 20:40:51</td>\n",
       "      <td>ABC</td>\n",
       "      <td>2310</td>\n",
       "      <td>second</td>\n",
       "      <td>CSE/AI/DS/MATH</td>\n",
       "      <td>Chandigarh</td>\n",
       "      <td>night owl</td>\n",
       "      <td>Pure vegetarian</td>\n",
       "      <td>4</td>\n",
       "      <td>Read books, Watch movies, Hangout with friends</td>\n",
       "      <td>Hosteller</td>\n",
       "    </tr>\n",
       "    <tr>\n",
       "      <th>1</th>\n",
       "      <td>12/26/2024 20:42:16</td>\n",
       "      <td>Ananya</td>\n",
       "      <td>23109999</td>\n",
       "      <td>third</td>\n",
       "      <td>MECHANICAL</td>\n",
       "      <td>London</td>\n",
       "      <td>night owl</td>\n",
       "      <td>Pure vegetarian</td>\n",
       "      <td>4</td>\n",
       "      <td>Read books, Hangout with friends, Other</td>\n",
       "      <td>Hosteller</td>\n",
       "    </tr>\n",
       "    <tr>\n",
       "      <th>2</th>\n",
       "      <td>12/26/2024 20:46:57</td>\n",
       "      <td>Amisha</td>\n",
       "      <td>23013002</td>\n",
       "      <td>second</td>\n",
       "      <td>CSE/AI/DS/MATH</td>\n",
       "      <td>Panchkula</td>\n",
       "      <td>night owl</td>\n",
       "      <td>Pure vegetarian</td>\n",
       "      <td>4</td>\n",
       "      <td>Watch movies, Hangout with friends</td>\n",
       "      <td>Hosteller</td>\n",
       "    </tr>\n",
       "    <tr>\n",
       "      <th>3</th>\n",
       "      <td>12/26/2024 20:48:57</td>\n",
       "      <td>Himanshi</td>\n",
       "      <td>23103047</td>\n",
       "      <td>second</td>\n",
       "      <td>CSE/AI/DS/MATH</td>\n",
       "      <td>Chandigarh</td>\n",
       "      <td>night owl</td>\n",
       "      <td>Pure vegetarian</td>\n",
       "      <td>4</td>\n",
       "      <td>Read books, Watch movies, Prefer going out, Ha...</td>\n",
       "      <td>Hosteller</td>\n",
       "    </tr>\n",
       "    <tr>\n",
       "      <th>4</th>\n",
       "      <td>12/26/2024 20:50:04</td>\n",
       "      <td>Lala</td>\n",
       "      <td>24105040</td>\n",
       "      <td>first</td>\n",
       "      <td>ELECTRICAL</td>\n",
       "      <td>Ludhiana</td>\n",
       "      <td>early riser</td>\n",
       "      <td>Pure vegetarian</td>\n",
       "      <td>2</td>\n",
       "      <td>Read books, Prefer going out</td>\n",
       "      <td>Hosteller</td>\n",
       "    </tr>\n",
       "  </tbody>\n",
       "</table>\n",
       "</div>"
      ],
      "text/plain": [
       "             Timestamp      Name       SID    YEAR          Branch  \\\n",
       "0  12/26/2024 20:40:51       ABC      2310  second  CSE/AI/DS/MATH   \n",
       "1  12/26/2024 20:42:16    Ananya  23109999   third      MECHANICAL   \n",
       "2  12/26/2024 20:46:57    Amisha  23013002  second  CSE/AI/DS/MATH   \n",
       "3  12/26/2024 20:48:57  Himanshi  23103047  second  CSE/AI/DS/MATH   \n",
       "4  12/26/2024 20:50:04      Lala  24105040   first      ELECTRICAL   \n",
       "\n",
       "  Home city/town Are you a night owl or an early riser?  \\\n",
       "0    Chandigarh                               night owl   \n",
       "1         London                              night owl   \n",
       "2     Panchkula                               night owl   \n",
       "3     Chandigarh                              night owl   \n",
       "4       Ludhiana                            early riser   \n",
       "\n",
       "  What are your food preferences?  \\\n",
       "0                 Pure vegetarian   \n",
       "1                 Pure vegetarian   \n",
       "2                 Pure vegetarian   \n",
       "3                 Pure vegetarian   \n",
       "4                 Pure vegetarian   \n",
       "\n",
       "   What would you rate yourself on the scale of 1-5 in cleanliness ?(5-being you clean your room everyday)  \\\n",
       "0                                                  4                                                         \n",
       "1                                                  4                                                         \n",
       "2                                                  4                                                         \n",
       "3                                                  4                                                         \n",
       "4                                                  2                                                         \n",
       "\n",
       "      What do you prefer doing in your leisure time? Hosteller/Day scholar  \n",
       "0     Read books, Watch movies, Hangout with friends             Hosteller  \n",
       "1            Read books, Hangout with friends, Other             Hosteller  \n",
       "2                 Watch movies, Hangout with friends             Hosteller  \n",
       "3  Read books, Watch movies, Prefer going out, Ha...             Hosteller  \n",
       "4                       Read books, Prefer going out             Hosteller  "
      ]
     },
     "execution_count": 52,
     "metadata": {},
     "output_type": "execute_result"
    }
   ],
   "source": [
    "\n",
    "data.head()"
   ]
  },
  {
   "cell_type": "code",
   "execution_count": 53,
   "metadata": {},
   "outputs": [],
   "source": [
    "relevant_columns = ['YEAR', \n",
    "    'Branch', \n",
    "    'Are you a night owl or an early riser?', \n",
    "    'What are your food preferences?',\n",
    "    'What would you rate yourself on the scale of 1-5 in cleanliness ?(5-being you clean your room everyday)','Home city/town']\n",
    "df = data[relevant_columns]\n"
   ]
  },
  {
   "cell_type": "code",
   "execution_count": 54,
   "metadata": {},
   "outputs": [
    {
     "name": "stderr",
     "output_type": "stream",
     "text": [
      "C:\\Users\\hp\\AppData\\Local\\Temp\\ipykernel_6012\\4084639889.py:4: SettingWithCopyWarning: \n",
      "A value is trying to be set on a copy of a slice from a DataFrame.\n",
      "Try using .loc[row_indexer,col_indexer] = value instead\n",
      "\n",
      "See the caveats in the documentation: https://pandas.pydata.org/pandas-docs/stable/user_guide/indexing.html#returning-a-view-versus-a-copy\n",
      "  df[col]=le.fit_transform(df[col])\n",
      "C:\\Users\\hp\\AppData\\Local\\Temp\\ipykernel_6012\\4084639889.py:4: SettingWithCopyWarning: \n",
      "A value is trying to be set on a copy of a slice from a DataFrame.\n",
      "Try using .loc[row_indexer,col_indexer] = value instead\n",
      "\n",
      "See the caveats in the documentation: https://pandas.pydata.org/pandas-docs/stable/user_guide/indexing.html#returning-a-view-versus-a-copy\n",
      "  df[col]=le.fit_transform(df[col])\n",
      "C:\\Users\\hp\\AppData\\Local\\Temp\\ipykernel_6012\\4084639889.py:4: SettingWithCopyWarning: \n",
      "A value is trying to be set on a copy of a slice from a DataFrame.\n",
      "Try using .loc[row_indexer,col_indexer] = value instead\n",
      "\n",
      "See the caveats in the documentation: https://pandas.pydata.org/pandas-docs/stable/user_guide/indexing.html#returning-a-view-versus-a-copy\n",
      "  df[col]=le.fit_transform(df[col])\n",
      "C:\\Users\\hp\\AppData\\Local\\Temp\\ipykernel_6012\\4084639889.py:4: SettingWithCopyWarning: \n",
      "A value is trying to be set on a copy of a slice from a DataFrame.\n",
      "Try using .loc[row_indexer,col_indexer] = value instead\n",
      "\n",
      "See the caveats in the documentation: https://pandas.pydata.org/pandas-docs/stable/user_guide/indexing.html#returning-a-view-versus-a-copy\n",
      "  df[col]=le.fit_transform(df[col])\n",
      "C:\\Users\\hp\\AppData\\Local\\Temp\\ipykernel_6012\\4084639889.py:4: SettingWithCopyWarning: \n",
      "A value is trying to be set on a copy of a slice from a DataFrame.\n",
      "Try using .loc[row_indexer,col_indexer] = value instead\n",
      "\n",
      "See the caveats in the documentation: https://pandas.pydata.org/pandas-docs/stable/user_guide/indexing.html#returning-a-view-versus-a-copy\n",
      "  df[col]=le.fit_transform(df[col])\n"
     ]
    }
   ],
   "source": [
    "label_encoders = {}\n",
    "for col in['YEAR','Home city/town','Branch','Are you a night owl or an early riser?','What are your food preferences?']:\n",
    "    le = LabelEncoder()\n",
    "    df[col]=le.fit_transform(df[col])\n",
    "    label_encoders[col] = le\n",
    "\n",
    "\n"
   ]
  },
  {
   "cell_type": "code",
   "execution_count": 61,
   "metadata": {},
   "outputs": [],
   "source": [
    "weights = {\n",
    "    'YEAR' :5,\n",
    "    'Branch': 2,\n",
    "    'Are you a night owl or an early riser?':4,\n",
    "    'What are your food preferences?':3,\n",
    "    'What would you rate yourself on the scale of 1-5 in cleanliness ?(5-being you clean your room everyday)':3,\n",
    "    'Home city/town':1 \n",
    "\n",
    "}"
   ]
  },
  {
   "cell_type": "code",
   "execution_count": null,
   "metadata": {},
   "outputs": [],
   "source": [
    "weighted_df = df.copy()\n",
    "for feature, weight in weights.items():\n",
    "    weighted_df[feature] = df[feature]* weight\n"
   ]
  },
  {
   "cell_type": "code",
   "execution_count": 64,
   "metadata": {},
   "outputs": [
    {
     "name": "stderr",
     "output_type": "stream",
     "text": [
      "C:\\Users\\hp\\AppData\\Local\\Temp\\ipykernel_6012\\3786904778.py:2: SettingWithCopyWarning: \n",
      "A value is trying to be set on a copy of a slice from a DataFrame.\n",
      "Try using .loc[row_indexer,col_indexer] = value instead\n",
      "\n",
      "See the caveats in the documentation: https://pandas.pydata.org/pandas-docs/stable/user_guide/indexing.html#returning-a-view-versus-a-copy\n",
      "  df['Cleanliness'] = scaler.fit_transform(df[['What would you rate yourself on the scale of 1-5 in cleanliness ?(5-being you clean your room everyday)']])\n"
     ]
    }
   ],
   "source": [
    "scaler = StandardScaler()\n",
    "df['Cleanliness'] = scaler.fit_transform(df[['What would you rate yourself on the scale of 1-5 in cleanliness ?(5-being you clean your room everyday)']])"
   ]
  },
  {
   "cell_type": "code",
   "execution_count": 65,
   "metadata": {},
   "outputs": [],
   "source": [
    "#function for getting top two matches \n",
    "def get_matches(data,weighted_df,num_matches=2):\n",
    "    recommendation = {}\n",
    "    for idx,profile in weighted_df.iterrows():\n",
    "        profile_df = profile.values.reshape(1,-1)\n",
    "        scores = cosine_similarity(profile_df,weighted_df).flatten()\n",
    "        scores[idx]=-1 #exclude self from the matches\n",
    "        top_indices = scores.argsort()[-2:][::-1]\n",
    "        recommendation[data.iloc[idx]['Name']]=data.iloc[top_indices][['Name', 'YEAR', 'Branch', 'Are you a night owl or an early riser?',\n",
    "        'What are your food preferences?', 'Home city/town',\n",
    "        'What would you rate yourself on the scale of 1-5 in cleanliness ?(5-being you clean your room everyday)'\n",
    "                                                                          ]]\n",
    "    return recommendation    \n",
    "\n"
   ]
  },
  {
   "cell_type": "code",
   "execution_count": 66,
   "metadata": {},
   "outputs": [
    {
     "ename": "NameError",
     "evalue": "name 'weighted_df' is not defined",
     "output_type": "error",
     "traceback": [
      "\u001b[1;31m---------------------------------------------------------------------------\u001b[0m",
      "\u001b[1;31mNameError\u001b[0m                                 Traceback (most recent call last)",
      "Cell \u001b[1;32mIn[66], line 1\u001b[0m\n\u001b[1;32m----> 1\u001b[0m all_recommendations \u001b[38;5;241m=\u001b[39m get_matches(data,\u001b[43mweighted_df\u001b[49m)\n\u001b[0;32m      3\u001b[0m sample \u001b[38;5;241m=\u001b[39m data\u001b[38;5;241m.\u001b[39miloc[\u001b[38;5;241m2\u001b[39m][\u001b[38;5;124m'\u001b[39m\u001b[38;5;124mName\u001b[39m\u001b[38;5;124m'\u001b[39m]\n\u001b[0;32m      4\u001b[0m all_recommendations[sample] \n",
      "\u001b[1;31mNameError\u001b[0m: name 'weighted_df' is not defined"
     ]
    }
   ],
   "source": [
    "all_recommendations = get_matches(data,weighted_df)\n",
    " \n",
    "sample = data.iloc[2]['Name']\n",
    "all_recommendations[sample] \n",
    " "
   ]
  }
 ],
 "metadata": {
  "kernelspec": {
   "display_name": "Python 3",
   "language": "python",
   "name": "python3"
  },
  "language_info": {
   "codemirror_mode": {
    "name": "ipython",
    "version": 3
   },
   "file_extension": ".py",
   "mimetype": "text/x-python",
   "name": "python",
   "nbconvert_exporter": "python",
   "pygments_lexer": "ipython3",
   "version": "3.12.5"
  }
 },
 "nbformat": 4,
 "nbformat_minor": 2
}
